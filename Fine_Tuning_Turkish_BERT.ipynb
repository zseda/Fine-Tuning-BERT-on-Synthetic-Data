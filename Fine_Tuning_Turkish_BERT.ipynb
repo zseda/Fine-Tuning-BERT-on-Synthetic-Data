{
 "cells": [
  {
   "cell_type": "markdown",
   "metadata": {
    "id": "dYw280NrUI9f"
   },
   "source": [
    "\n",
    "#Pre -trained Turkish BERT\n",
    "\n",
    "https://github.com/stefan-it/turkish-bert\n",
    "\n",
    "bert-base-turkish-cased\n",
    "\n"
   ]
  },
  {
   "cell_type": "markdown",
   "metadata": {
    "id": "r8Io4YOBhp39"
   },
   "source": [
    "#1)Setting up the GPU usage\n",
    "If you are using colabs please change runtime type to GPU, otherwise it would take a while to run this code\n"
   ]
  },
  {
   "cell_type": "code",
   "execution_count": null,
   "metadata": {
    "colab": {
     "base_uri": "https://localhost:8080/"
    },
    "executionInfo": {
     "elapsed": 928,
     "status": "ok",
     "timestamp": 1616850734881,
     "user": {
      "displayName": "zeynep seda birinci",
      "photoUrl": "https://lh3.googleusercontent.com/a-/AOh14Gg2CDHlhaXPAxlZCoFysBnBYc7vaDueMjvwK2PHb_g=s64",
      "userId": "12327511080140942233"
     },
     "user_tz": -180
    },
    "id": "6vwP49jsXlQR",
    "outputId": "ad050335-aa7c-45c2-b92c-fd85ba2b8bcf"
   },
   "outputs": [
    {
     "name": "stdout",
     "output_type": "stream",
     "text": [
      "Found GPU at: /device:GPU:0\n"
     ]
    }
   ],
   "source": [
    "import tensorflow as tf\n",
    "device_name = tf.test.gpu_device_name()\n",
    "if device_name == '/device:GPU:0':\n",
    "    print('Found GPU at: {}'.format(device_name))\n",
    "else:\n",
    "    raise SystemError('GPU device not found')"
   ]
  },
  {
   "cell_type": "code",
   "execution_count": null,
   "metadata": {
    "colab": {
     "base_uri": "https://localhost:8080/"
    },
    "executionInfo": {
     "elapsed": 1530,
     "status": "ok",
     "timestamp": 1616850735499,
     "user": {
      "displayName": "zeynep seda birinci",
      "photoUrl": "https://lh3.googleusercontent.com/a-/AOh14Gg2CDHlhaXPAxlZCoFysBnBYc7vaDueMjvwK2PHb_g=s64",
      "userId": "12327511080140942233"
     },
     "user_tz": -180
    },
    "id": "N-J2HMpkX0le",
    "outputId": "2c44ed06-b59c-4676-f617-b154612e4bed"
   },
   "outputs": [
    {
     "name": "stdout",
     "output_type": "stream",
     "text": [
      "There are 1 GPU(s) available.\n",
      "The GPU: Tesla P100-PCIE-16GB\n"
     ]
    }
   ],
   "source": [
    "import torch\n",
    "if torch.cuda.is_available():      \n",
    "    device = torch.device(\"cuda\")\n",
    "    print('There are %d GPU(s) available.' % torch.cuda.device_count())\n",
    "    print('The GPU:', torch.cuda.get_device_name(0))\n",
    "else:\n",
    "    print('No GPU available, using the CPU instead.')\n",
    "    device = torch.device(\"cpu\")"
   ]
  },
  {
   "cell_type": "markdown",
   "metadata": {
    "id": "hCzVSLLiuM9F"
   },
   "source": [
    "**Importing libraries and modules that are going to be used**"
   ]
  },
  {
   "cell_type": "code",
   "execution_count": null,
   "metadata": {
    "id": "YY_YcC8FgWT5"
   },
   "outputs": [],
   "source": [
    "from random import Random\n",
    "import copy\n",
    "import pandas as pd\n",
    "import tensorflow as tf\n",
    "import torch\n",
    "import numpy as np\n",
    "import time\n",
    "import datetime\n",
    "import random\n",
    "import seaborn as sns\n",
    "import matplotlib.pyplot as plt\n",
    "% matplotlib inline\n",
    "\n",
    "from google.colab import drive\n",
    "\n",
    "!pip install transformers\n",
    "import transformers\n",
    "from transformers import BertTokenizer\n",
    "from torch.utils.data import TensorDataset, random_split\n",
    "from torch.utils.data import DataLoader, RandomSampler, SequentialSampler\n",
    "from transformers import BertForSequenceClassification, AdamW, BertConfig\n",
    "from transformers import get_linear_schedule_with_warmup\n",
    "\n",
    "from sklearn.metrics import f1_score\n",
    "from sklearn.metrics import recall_score\n",
    "from sklearn.metrics import precision_score\n",
    "from sklearn.metrics import classification_report\n",
    "from sklearn.preprocessing import LabelEncoder"
   ]
  },
  {
   "cell_type": "markdown",
   "metadata": {
    "id": "-7wtJDqCYbKA"
   },
   "source": [
    "\n",
    "\n",
    "Now I am going to start creating the data sets with the methods I have suggested at the beginning of the notebook\n",
    "\n",
    "I will create 1000 samples for each categories, probably less for hobbies since I will scrap it from web \n",
    "\n",
    "\n"
   ]
  },
  {
   "cell_type": "markdown",
   "metadata": {
    "id": "yaBLHdsQg_hP"
   },
   "source": [
    "#2)Creating credit cards data set\n",
    "**CAUTION: I TOOK BELOW CODE TO CREATE SAMPLE CREDIT CARDS FROM GITHUB**\n",
    "\n",
    "The code uses Luhn Algorithm to generate credit card numbers and also take into account of MII and BIN (Major industry identifier, Bank Identification Number)\n",
    "\n",
    "https://github.com/eye9poob"
   ]
  },
  {
   "cell_type": "code",
   "execution_count": null,
   "metadata": {
    "id": "4IezRoOjdxZb"
   },
   "outputs": [],
   "source": [
    "\n",
    "visaPrefixList = [\n",
    "        ['4', '5', '3', '9'],\n",
    "        ['4', '5', '5', '6'],\n",
    "        ['4', '9', '1', '6'],\n",
    "        ['4', '5', '3', '2'],\n",
    "        ['4', '9', '2', '9'],\n",
    "        ['4', '0', '2', '4', '0', '0', '7', '1'],\n",
    "        ['4', '4', '8', '6'],\n",
    "        ['4', '7', '1', '6'],\n",
    "        ['4']]\n",
    "\n",
    "mastercardPrefixList = [\n",
    "        ['5', '1'], ['5', '2'], ['5', '3'], ['5', '4'], ['5', '5']]\n",
    "\n",
    "\n",
    "\n",
    "def completed_number(prefix, length):\n",
    "    \"\"\"\n",
    "    'prefix' is the start of the CC number as a string, any number of digits.\n",
    "    'length' is the length of the CC number to generate. Typically 13 or 16\n",
    "    \"\"\"\n",
    "\n",
    "    ccnumber = prefix\n",
    "\n",
    "    # generate digits\n",
    "\n",
    "    while len(ccnumber) < (length - 1):\n",
    "        digit = str(generator.choice(range(0, 10)))\n",
    "        ccnumber.append(digit)\n",
    "\n",
    "    # Calculate sum\n",
    "\n",
    "    sum = 0\n",
    "    pos = 0\n",
    "\n",
    "    reversedCCnumber = []\n",
    "    reversedCCnumber.extend(ccnumber)\n",
    "    reversedCCnumber.reverse()\n",
    "\n",
    "    while pos < length - 1:\n",
    "\n",
    "        odd = int(reversedCCnumber[pos]) * 2\n",
    "        if odd > 9:\n",
    "            odd -= 9\n",
    "\n",
    "        sum += odd\n",
    "\n",
    "        if pos != (length - 2):\n",
    "\n",
    "            sum += int(reversedCCnumber[pos + 1])\n",
    "\n",
    "        pos += 2\n",
    "\n",
    "    # Calculate check digit\n",
    "\n",
    "    checkdigit = ((sum / 10 + 1) * 10 - sum) % 10\n",
    "\n",
    "    ccnumber.append(str(checkdigit))\n",
    "\n",
    "    return ''.join(ccnumber)\n",
    "\n",
    "\n",
    "def credit_card_number(rnd, prefixList, length, howMany):\n",
    "\n",
    "    result = []\n",
    "\n",
    "    while len(result) < howMany:\n",
    "\n",
    "        ccnumber = copy.copy(rnd.choice(prefixList))\n",
    "        result.append(completed_number(ccnumber, length))\n",
    "\n",
    "    return result\n",
    "\n",
    "\n",
    "\n",
    "generator = Random()\n",
    "generator.seed()        # Seed from current time\n",
    "\n",
    "mastercard = credit_card_number(generator, mastercardPrefixList, 16, 500)\n",
    "\n",
    "visa16 = credit_card_number(generator, visaPrefixList, 16, 500)\n",
    "\n",
    "credit_card = mastercard + visa16"
   ]
  },
  {
   "cell_type": "code",
   "execution_count": null,
   "metadata": {
    "id": "mhOc_hpUaJhk"
   },
   "outputs": [],
   "source": [
    "import pandas as pd\n",
    "df=pd.DataFrame(credit_card, columns=['data_pool']) \n",
    "\n",
    "df['data_pool']=df['data_pool'].astype(str).astype(float).astype(int)\n",
    "df['labels'] = 'credit_card_number'"
   ]
  },
  {
   "cell_type": "markdown",
   "metadata": {
    "id": "UtQdcaCthciu"
   },
   "source": [
    "#3)Creating the blood_type Data Set\n",
    "\n",
    "I have just googled all blood types and wrote them in different styles (symbols or strings ) then I cloned the array that I created in order to make the balanced data pool in terms of different categories"
   ]
  },
  {
   "cell_type": "code",
   "execution_count": null,
   "metadata": {
    "id": "1sl4pxxkjO4F"
   },
   "outputs": [],
   "source": [
    "import numpy as np\n",
    "kan_grupları= np.array(['0 RH+','0 RH Positive',' 0 RH-','0 RH Negative',' AB RH+','AB RH Positive','AB RH-','AB RH Negative','A RH+','A RH Positive', 'A RH-','A RH Negative', 'B RH+','B RH Positive',' B RH-','B RH Negative'])"
   ]
  },
  {
   "cell_type": "code",
   "execution_count": null,
   "metadata": {
    "id": "9tsU7ECPepCi"
   },
   "outputs": [],
   "source": [
    "kan_grupları=np.repeat(kan_grupları, 70)"
   ]
  },
  {
   "cell_type": "code",
   "execution_count": null,
   "metadata": {
    "id": "T7SLu9BGlbpv"
   },
   "outputs": [],
   "source": [
    "kg=pd.DataFrame(kan_grupları, columns=['data_pool'])\n",
    "kg['labels'] = 'blood_type'"
   ]
  },
  {
   "cell_type": "code",
   "execution_count": null,
   "metadata": {
    "id": "TG7F3Yydg8gO"
   },
   "outputs": [],
   "source": [
    "data_pool=pd.concat([kg,df], axis=0)"
   ]
  },
  {
   "cell_type": "markdown",
   "metadata": {
    "id": "IGzgFw03ETj_"
   },
   "source": [
    "#4) Creating Republic of Turkey Identification Numbers Data Set\n",
    "According to my search from different sources on web I have concluded below rule is correct to generate Turkish Id with 11 numbers.\n",
    "\n",
    "First 9 numbers are expressed with d, last 2 numbers are control numbers and expressed as c1 c2 :\n",
    "\n",
    "c1 = ( (d1 + d3 + d5 + d7 + d9) * 7 - (d2 + d4 + d6 + d8) ) mod10\n",
    "\n",
    "c2 = ( d1 + d2 + d3 + d4 + d5 + d6 + d7 + d8 + d9 + c1 ) mod10"
   ]
  },
  {
   "cell_type": "code",
   "execution_count": null,
   "metadata": {
    "id": "GOaxbK9flgeX"
   },
   "outputs": [],
   "source": [
    "import random\n",
    "def is_valid(tc_id):\n",
    "    tc_id = str(tc_id)\n",
    "    if int(tc_id[0]) > 0 and len(tc_id) == 11:\n",
    "        c2 = sum(map(int, tc_id[0:10])) % 10\n",
    "        if c2 == int(tc_id[10]):\n",
    "            c1 = (sum(map(int, tc_id[:10:2])) * 7-(\n",
    "                           sum(map(int, tc_id[1:9:2])))) % 10\n",
    "            return c1 == int(tc_id[9])\n",
    "\n",
    "    return False\n",
    "    \n",
    "def generate_tc_id(limit, start= 10000000000):\n",
    "    tc_ids = []\n",
    "    num = start\n",
    "    while len(tc_ids) < limit:\n",
    "        if is_valid(num):\n",
    "            tc_ids.append(num)\n",
    "            num += random.randint(1,1000000)\n",
    "        num +=random.randint(1,1000000)\n",
    "    return tc_ids "
   ]
  },
  {
   "cell_type": "code",
   "execution_count": null,
   "metadata": {
    "id": "4a5OeZuOmP_t"
   },
   "outputs": [],
   "source": [
    "valid_tc_numbers= generate_tc_id(limit=1000)"
   ]
  },
  {
   "cell_type": "code",
   "execution_count": null,
   "metadata": {
    "id": "J0s30mRawtii"
   },
   "outputs": [],
   "source": [
    "tc_num=pd.DataFrame(valid_tc_numbers, columns=['data_pool'])\n",
    "tc_num['labels'] = 'republic_of_turkey_identity_number'"
   ]
  },
  {
   "cell_type": "code",
   "execution_count": null,
   "metadata": {
    "id": "ry4KtFFDxkF8"
   },
   "outputs": [],
   "source": [
    "data_pool=pd.concat([data_pool,tc_num], axis=0)"
   ]
  },
  {
   "cell_type": "code",
   "execution_count": null,
   "metadata": {
    "id": "wO875N7kxpkg"
   },
   "outputs": [],
   "source": [
    "pd.set_option('display.max_rows', data_pool.shape[0]+1)"
   ]
  },
  {
   "cell_type": "markdown",
   "metadata": {
    "id": "EJvVnKhBKWD9"
   },
   "source": [
    "#5)Creating Phone Number Data Set\n",
    "I wrote smilar algorithm to the algorithm used for credit card just added dial code and removed luhn algorithm\n",
    "\n",
    "The country calling code of Turkey is 90. And generated approximately 300 from each gsm operator\n",
    "\n",
    "Language digit: 0 (Direct Dialing)\n",
    "\n",
    "Language digit: 2 (Operator Assistance)\n",
    "\n",
    "National (significant) number: 10 Digits.\n",
    "\n",
    "Area code: 3 digits\n",
    "\n",
    "Local subscriber's number: 7 digits.\n",
    "\n",
    "USED BY\tCODE\n",
    "\n",
    "Turkcell\t530, 531, 532, 533, 534, 535, 536, 537, 538, 539, 561\n",
    "\n",
    "Vodafone\t540, 541, 542, 543, 544, 545, 546, 547, 548, 549\n",
    "\n",
    "Turk Telekom\t500, 501, 502, 503, 504, 505, 506, 507, 508, 509, 550, 551, 552, 553, 554, 555, 556, 557, 558, 559"
   ]
  },
  {
   "cell_type": "code",
   "execution_count": null,
   "metadata": {
    "id": "8xjuLFjwgoUC"
   },
   "outputs": [],
   "source": [
    "turkish_dial_code=[['+', '9', '0'],\n",
    "        ['0'],\n",
    "        []]\n",
    "\n",
    "TurkTelekomPrefixList = [\n",
    "        ['5', '0', '0'],\n",
    "        ['5', '0', '1'],\n",
    "        ['5', '0', '2'],\n",
    "        ['5', '0', '3'],\n",
    "        ['5', '0', '4'],\n",
    "        ['5', '0', '5'],\n",
    "        ['5', '0', '6'],\n",
    "        ['5', '0', '7'],\n",
    "        ['5', '0', '8'],\n",
    "        ['5', '0', '9'],\n",
    "        ['5', '5', '0'],\n",
    "        ['5', '5', '1'],\n",
    "        ['5', '5', '2'],\n",
    "        ['5', '5', '3'],\n",
    "        ['5', '5', '4'],\n",
    "        ['5', '5', '5'],\n",
    "        ['5', '5', '6'],\n",
    "        ['5', '5', '7'],\n",
    "        ['5', '5', '8'],\n",
    "        ['5', '5', '9']]\n",
    "VodafonePrefixList = [\n",
    "        ['5', '4', '0'],\n",
    "        ['5', '4', '1'],\n",
    "        ['5', '4', '2'],\n",
    "        ['5', '4', '3'],\n",
    "        ['5', '4', '4'],\n",
    "        ['5', '4', '5'],\n",
    "        ['5', '4', '6'],\n",
    "        ['5', '4', '7'],\n",
    "        ['5', '4', '8'],\n",
    "        ['5', '4', '9']]\n",
    "TurkcellPrefixList = [\n",
    "        ['5', '3', '0'],\n",
    "        ['5', '3', '1'],\n",
    "        ['5', '3', '2'],\n",
    "        ['5', '3', '3'],\n",
    "        ['5', '3', '4'],\n",
    "        ['5', '3', '5'],\n",
    "        ['5', '3', '6'],\n",
    "        ['5', '3', '7'],\n",
    "        ['5', '3', '8'],\n",
    "        ['5', '3', '9'],\n",
    "        ['5', '6', '1'],\n",
    "        ] \n",
    "\n",
    "def completed_number(code,prefix,length):\n",
    "\n",
    "    dial_code=code\n",
    "    mobile_code = prefix\n",
    "\n",
    "    while len(mobile_code) < (length - 1):\n",
    "        \n",
    "        digit = str(generator.choice(range(0, 10)))\n",
    "        mobile_code.append(digit)\n",
    "    return (''.join(dial_code)+''.join(mobile_code))\n",
    "\n",
    "def phone_number(rnd,dial_code, prefixList, length, howMany):\n",
    "\n",
    "    result = []\n",
    "\n",
    "    while len(result) < howMany:\n",
    "        code=copy.copy(rnd.choice(dial_code))\n",
    "        mobile_code= copy.copy(rnd.choice(prefixList))\n",
    "        result.append(completed_number(code,mobile_code,length))\n",
    "\n",
    "    return result\n",
    "\n",
    "\n",
    "generator = Random()\n",
    "generator.seed()        \n",
    "\n",
    "turktelekom = phone_number(generator,turkish_dial_code,TurkTelekomPrefixList,11,340)\n",
    "turkcell = phone_number(generator,turkish_dial_code,TurkcellPrefixList,11,330)\n",
    "vodafone = phone_number(generator,turkish_dial_code,VodafonePrefixList,11,330)\n",
    "\n",
    "phone_number=turktelekom +turkcell + vodafone"
   ]
  },
  {
   "cell_type": "code",
   "execution_count": null,
   "metadata": {
    "id": "E0HAwu9gr8YF"
   },
   "outputs": [],
   "source": [
    "phone_number=pd.DataFrame(phone_number, columns=['data_pool'])\n",
    "phone_number['labels'] = 'phone_number'"
   ]
  },
  {
   "cell_type": "code",
   "execution_count": null,
   "metadata": {
    "id": "ZvHuqxA9sTfu"
   },
   "outputs": [],
   "source": [
    "data_pool=pd.concat([data_pool,phone_number], axis=0)"
   ]
  },
  {
   "cell_type": "markdown",
   "metadata": {
    "id": "87sdEUFpuTBX"
   },
   "source": [
    "#6) Creating Amount Data Set\n",
    "\n",
    "I m going to randomly generate numbers in a range then add TL, USD, $ ... as a prefix suffix"
   ]
  },
  {
   "cell_type": "code",
   "execution_count": null,
   "metadata": {
    "id": "93zvhPivu277"
   },
   "outputs": [],
   "source": [
    "prefix = [[],\n",
    "        ['$'],\n",
    "        ['₺'],\n",
    "        ['€']] \n",
    "suffix= [[],\n",
    "        ['TL'],\n",
    "        ['USD'],\n",
    "        ['EUR']] \n",
    "\n",
    "def completed_number(prefix):\n",
    "\n",
    "    symbols = prefix\n",
    "    digit = str(generator.choice(range(0, 1000000)))\n",
    "    prefix.append(digit)\n",
    "    return (''.join(prefix))\n",
    "\n",
    "def amount(rnd,prefixList,howMany):\n",
    "\n",
    "    result = []\n",
    "\n",
    "    while len(result) < howMany:\n",
    "        symbols= copy.copy(rnd.choice(prefix))\n",
    "        result.append(completed_number(symbols))\n",
    "\n",
    "    return result\n",
    "\n",
    "\n",
    "generator = Random()\n",
    "generator.seed()        \n",
    "\n",
    "prefix_amount = amount(generator,prefix,500)\n",
    "\n",
    "#Below is code dublicate I just could not figure out the random choice of suffix or prefix in same functions so, gone with the brute force approach\n",
    "\n",
    "def currency_completed_number(suffix):\n",
    "\n",
    "    currency = suffix\n",
    "    digit = str(generator.choice(range(0, 1000000)))\n",
    "    currency.insert(0,digit)\n",
    "    return (' '.join(currency))\n",
    "\n",
    "def currency_amount(rnd,prefixList,howMany):\n",
    "\n",
    "    result = []\n",
    "\n",
    "    while len(result) < howMany:\n",
    "        symbols= copy.copy(rnd.choice(suffix))\n",
    "        result.append(currency_completed_number(symbols))\n",
    "\n",
    "    return result\n",
    "suffix_amount=currency_amount(generator,suffix,500)\n",
    "\n",
    "Amount= prefix_amount + suffix_amount"
   ]
  },
  {
   "cell_type": "code",
   "execution_count": null,
   "metadata": {
    "id": "oHpi3G6ExxNi"
   },
   "outputs": [],
   "source": [
    "amount=pd.DataFrame(Amount, columns=['data_pool'])\n",
    "amount['labels'] = 'amount'"
   ]
  },
  {
   "cell_type": "code",
   "execution_count": null,
   "metadata": {
    "id": "U371lg0xx9gJ"
   },
   "outputs": [],
   "source": [
    "data_pool=pd.concat([data_pool,amount], axis=0)"
   ]
  },
  {
   "cell_type": "markdown",
   "metadata": {
    "id": "hKhEhIJMFFOP"
   },
   "source": [
    "#7) Creating Hobbies Data Set\n",
    "\n",
    "I have used web crawler extention of google chrome and got turkish hobies data\n",
    " \n",
    "from this web site https://tavsiyelist.com/hobi-onerileri/ in txt format\n",
    "\n",
    "I am just going to read line by line and put each line into hobies data frame row.\n",
    "\n"
   ]
  },
  {
   "cell_type": "code",
   "execution_count": null,
   "metadata": {
    "id": "bsQnO9R5F7bc"
   },
   "outputs": [],
   "source": [
    "import pandas as pd\n",
    "col_name=['data_pool']\n",
    "df = pd.read_csv('hobiler.txt', names=col_name,header = None)\n",
    "df['data_pool'] = df['data_pool'].str.replace('\\W{1,}',' ')\n",
    "df['data_pool'] = df['data_pool'].str.replace('\\d{1,}',' ')\n",
    "df['labels'] = 'hobbies'"
   ]
  },
  {
   "cell_type": "code",
   "execution_count": null,
   "metadata": {
    "colab": {
     "base_uri": "https://localhost:8080/",
     "height": 204
    },
    "executionInfo": {
     "elapsed": 4533,
     "status": "ok",
     "timestamp": 1616850738663,
     "user": {
      "displayName": "zeynep seda birinci",
      "photoUrl": "https://lh3.googleusercontent.com/a-/AOh14Gg2CDHlhaXPAxlZCoFysBnBYc7vaDueMjvwK2PHb_g=s64",
      "userId": "12327511080140942233"
     },
     "user_tz": -180
    },
    "id": "fTsa2LckwKz9",
    "outputId": "209c9487-f03b-4842-b01f-d33ffd07b854"
   },
   "outputs": [
    {
     "data": {
      "text/html": [
       "<div>\n",
       "<style scoped>\n",
       "    .dataframe tbody tr th:only-of-type {\n",
       "        vertical-align: middle;\n",
       "    }\n",
       "\n",
       "    .dataframe tbody tr th {\n",
       "        vertical-align: top;\n",
       "    }\n",
       "\n",
       "    .dataframe thead th {\n",
       "        text-align: right;\n",
       "    }\n",
       "</style>\n",
       "<table border=\"1\" class=\"dataframe\">\n",
       "  <thead>\n",
       "    <tr style=\"text-align: right;\">\n",
       "      <th></th>\n",
       "      <th>data_pool</th>\n",
       "      <th>labels</th>\n",
       "    </tr>\n",
       "  </thead>\n",
       "  <tbody>\n",
       "    <tr>\n",
       "      <th>0</th>\n",
       "      <td>Spor Yapmak</td>\n",
       "      <td>hobbies</td>\n",
       "    </tr>\n",
       "    <tr>\n",
       "      <th>1</th>\n",
       "      <td>Yürüyüş Yapmak Koşmak</td>\n",
       "      <td>hobbies</td>\n",
       "    </tr>\n",
       "    <tr>\n",
       "      <th>2</th>\n",
       "      <td>Yüzmek</td>\n",
       "      <td>hobbies</td>\n",
       "    </tr>\n",
       "    <tr>\n",
       "      <th>3</th>\n",
       "      <td>Oyun Oynamak</td>\n",
       "      <td>hobbies</td>\n",
       "    </tr>\n",
       "    <tr>\n",
       "      <th>4</th>\n",
       "      <td>Bisiklet Sürmek</td>\n",
       "      <td>hobbies</td>\n",
       "    </tr>\n",
       "  </tbody>\n",
       "</table>\n",
       "</div>"
      ],
      "text/plain": [
       "                  data_pool   labels\n",
       "0              Spor Yapmak   hobbies\n",
       "1    Yürüyüş Yapmak Koşmak   hobbies\n",
       "2                   Yüzmek   hobbies\n",
       "3             Oyun Oynamak   hobbies\n",
       "4          Bisiklet Sürmek   hobbies"
      ]
     },
     "execution_count": 197,
     "metadata": {
      "tags": []
     },
     "output_type": "execute_result"
    }
   ],
   "source": [
    "df.head()"
   ]
  },
  {
   "cell_type": "code",
   "execution_count": null,
   "metadata": {
    "id": "KPcLA-IvyDri"
   },
   "outputs": [],
   "source": [
    "data_pool=pd.concat([data_pool,df], axis=0)"
   ]
  },
  {
   "cell_type": "code",
   "execution_count": null,
   "metadata": {
    "id": "BN9G0U_tyqp6"
   },
   "outputs": [],
   "source": [
    "data_pool=data_pool.reset_index(drop=True)"
   ]
  },
  {
   "cell_type": "code",
   "execution_count": null,
   "metadata": {
    "id": "z9xQLwYxyJba"
   },
   "outputs": [],
   "source": [
    "data_pool.to_excel(\"datapool.xlsx\") "
   ]
  },
  {
   "cell_type": "code",
   "execution_count": null,
   "metadata": {
    "id": "rmuFzumV5hKn"
   },
   "outputs": [],
   "source": [
    "data_pool = data_pool.sample(frac=1).reset_index(drop=True)"
   ]
  },
  {
   "cell_type": "code",
   "execution_count": null,
   "metadata": {
    "colab": {
     "base_uri": "https://localhost:8080/",
     "height": 359
    },
    "executionInfo": {
     "elapsed": 5171,
     "status": "ok",
     "timestamp": 1616850739343,
     "user": {
      "displayName": "zeynep seda birinci",
      "photoUrl": "https://lh3.googleusercontent.com/a-/AOh14Gg2CDHlhaXPAxlZCoFysBnBYc7vaDueMjvwK2PHb_g=s64",
      "userId": "12327511080140942233"
     },
     "user_tz": -180
    },
    "id": "Gfomql7P-QK2",
    "outputId": "b84b2442-73ff-47f9-d6f3-cfbece871937"
   },
   "outputs": [
    {
     "data": {
      "text/html": [
       "<div>\n",
       "<style scoped>\n",
       "    .dataframe tbody tr th:only-of-type {\n",
       "        vertical-align: middle;\n",
       "    }\n",
       "\n",
       "    .dataframe tbody tr th {\n",
       "        vertical-align: top;\n",
       "    }\n",
       "\n",
       "    .dataframe thead th {\n",
       "        text-align: right;\n",
       "    }\n",
       "</style>\n",
       "<table border=\"1\" class=\"dataframe\">\n",
       "  <thead>\n",
       "    <tr style=\"text-align: right;\">\n",
       "      <th></th>\n",
       "      <th>data_pool</th>\n",
       "      <th>labels</th>\n",
       "    </tr>\n",
       "  </thead>\n",
       "  <tbody>\n",
       "    <tr>\n",
       "      <th>0</th>\n",
       "      <td>AB RH-</td>\n",
       "      <td>blood_type</td>\n",
       "    </tr>\n",
       "    <tr>\n",
       "      <th>1</th>\n",
       "      <td>+905405994850</td>\n",
       "      <td>phone_number</td>\n",
       "    </tr>\n",
       "    <tr>\n",
       "      <th>2</th>\n",
       "      <td>5472086783681820</td>\n",
       "      <td>credit_card_number</td>\n",
       "    </tr>\n",
       "    <tr>\n",
       "      <th>3</th>\n",
       "      <td>5490899178715730</td>\n",
       "      <td>credit_card_number</td>\n",
       "    </tr>\n",
       "    <tr>\n",
       "      <th>4</th>\n",
       "      <td>5153395469878190</td>\n",
       "      <td>credit_card_number</td>\n",
       "    </tr>\n",
       "    <tr>\n",
       "      <th>5</th>\n",
       "      <td>22437920324</td>\n",
       "      <td>republic_of_turkey_identity_number</td>\n",
       "    </tr>\n",
       "    <tr>\n",
       "      <th>6</th>\n",
       "      <td>58203288534</td>\n",
       "      <td>republic_of_turkey_identity_number</td>\n",
       "    </tr>\n",
       "    <tr>\n",
       "      <th>7</th>\n",
       "      <td>12383812200</td>\n",
       "      <td>republic_of_turkey_identity_number</td>\n",
       "    </tr>\n",
       "    <tr>\n",
       "      <th>8</th>\n",
       "      <td>5564016458</td>\n",
       "      <td>phone_number</td>\n",
       "    </tr>\n",
       "    <tr>\n",
       "      <th>9</th>\n",
       "      <td>₺659836</td>\n",
       "      <td>amount</td>\n",
       "    </tr>\n",
       "  </tbody>\n",
       "</table>\n",
       "</div>"
      ],
      "text/plain": [
       "          data_pool                              labels\n",
       "0            AB RH-                          blood_type\n",
       "1     +905405994850                        phone_number\n",
       "2  5472086783681820                  credit_card_number\n",
       "3  5490899178715730                  credit_card_number\n",
       "4  5153395469878190                  credit_card_number\n",
       "5       22437920324  republic_of_turkey_identity_number\n",
       "6       58203288534  republic_of_turkey_identity_number\n",
       "7       12383812200  republic_of_turkey_identity_number\n",
       "8        5564016458                        phone_number\n",
       "9           ₺659836                              amount"
      ]
     },
     "execution_count": 202,
     "metadata": {
      "tags": []
     },
     "output_type": "execute_result"
    }
   ],
   "source": [
    "data_pool.head(10)"
   ]
  },
  {
   "cell_type": "code",
   "execution_count": null,
   "metadata": {
    "id": "ofzlCkPQ-3Sd"
   },
   "outputs": [],
   "source": [
    "data_pool['data_pool'] = data_pool['data_pool'].astype(str)\n",
    "#data_pool['data_pool'] = data_pool['data_pool'].str.upper()"
   ]
  },
  {
   "cell_type": "code",
   "execution_count": null,
   "metadata": {
    "id": "EtJMebiqDasn"
   },
   "outputs": [],
   "source": [
    "data_pool['encoded_categories'] = LabelEncoder().fit_transform(data_pool['labels'])\n",
    "data_pool=data_pool.drop(['labels'], axis=1)"
   ]
  },
  {
   "cell_type": "code",
   "execution_count": null,
   "metadata": {
    "colab": {
     "base_uri": "https://localhost:8080/"
    },
    "executionInfo": {
     "elapsed": 942,
     "status": "ok",
     "timestamp": 1616850766530,
     "user": {
      "displayName": "zeynep seda birinci",
      "photoUrl": "https://lh3.googleusercontent.com/a-/AOh14Gg2CDHlhaXPAxlZCoFysBnBYc7vaDueMjvwK2PHb_g=s64",
      "userId": "12327511080140942233"
     },
     "user_tz": -180
    },
    "id": "K39Cx9qmXfz9",
    "outputId": "dfd65083-0207-4a58-cc4c-55246a44bd11"
   },
   "outputs": [
    {
     "data": {
      "text/plain": [
       "(5227, 2)"
      ]
     },
     "execution_count": 209,
     "metadata": {
      "tags": []
     },
     "output_type": "execute_result"
    }
   ],
   "source": [
    "data_pool.shape"
   ]
  },
  {
   "cell_type": "markdown",
   "metadata": {
    "id": "ODZ43Pvy_neC"
   },
   "source": [
    "#8)Fine-tuning with Turkish BERT\n",
    "Declaration\n",
    " Before this case study I havent worked on BERT model. After this task assigned,\n",
    "I have done little research about BERT, I knew that it was popularly being used last 2 years however, I have not done any work on BERT. These are the papers and notebooks I read before I start the fine tuning Task.\n",
    "\n",
    "\n",
    " https://nlp.seas.harvard.edu/2018/04/03/attention.html\n",
    "\n",
    " http://mccormickml.com/tutorials/\n",
    "\n",
    " https://arxiv.org/abs/1810.04805\n",
    "\n",
    "Acknowledgement \n",
    "\n",
    "I have also used below medium post to fine tune Turkish Bert\n",
    "\n",
    " https://medium.com/@toprakucar/bert-modeli-ile-t%C3%BCrk%C3%A7e-metinlerde-s%C4%B1n%C4%B1fland%C4%B1rma-yapmak-260f15a65611"
   ]
  },
  {
   "cell_type": "code",
   "execution_count": null,
   "metadata": {
    "id": "Oe7rYn0yZUS2"
   },
   "outputs": [],
   "source": [
    "tokenizer = BertTokenizer.from_pretrained('dbmdz/bert-base-turkish-128k-uncased', do_lower_case=True)\n",
    "sentences = data_pool.data_pool.values\n",
    "max_len = 250"
   ]
  },
  {
   "cell_type": "code",
   "execution_count": null,
   "metadata": {
    "colab": {
     "base_uri": "https://localhost:8080/"
    },
    "executionInfo": {
     "elapsed": 952,
     "status": "ok",
     "timestamp": 1616850812414,
     "user": {
      "displayName": "zeynep seda birinci",
      "photoUrl": "https://lh3.googleusercontent.com/a-/AOh14Gg2CDHlhaXPAxlZCoFysBnBYc7vaDueMjvwK2PHb_g=s64",
      "userId": "12327511080140942233"
     },
     "user_tz": -180
    },
    "id": "VgKfK4HLZqj_",
    "outputId": "ff4ff208-0420-40bb-ecc6-d774e99cb512"
   },
   "outputs": [
    {
     "name": "stdout",
     "output_type": "stream",
     "text": [
      "Training:  4182\n",
      "Test:  821\n"
     ]
    }
   ],
   "source": [
    "#creating train and test sets\n",
    "training = data_pool.groupby('encoded_categories').apply(lambda x : x.sample(frac = 0.80))\n",
    "test = pd.concat([data_pool,training]).drop_duplicates(keep=False)\n",
    "\n",
    "print(\"Training: \", len(training))\n",
    "print(\"Test: \", len(test))\n",
    "\n",
    "training_texts = training.data_pool.values\n",
    "training_labels = training.encoded_categories.values"
   ]
  },
  {
   "cell_type": "code",
   "execution_count": null,
   "metadata": {
    "id": "7tsLJrcBZ1le"
   },
   "outputs": [],
   "source": [
    "# Tokenization process:\n",
    "\n",
    "input_ids = []\n",
    "attention_masks = []\n",
    "\n",
    "for text in training_texts:\n",
    "    encoded_dict = tokenizer.encode_plus(\n",
    "                        text,                     \n",
    "                        add_special_tokens = True,\n",
    "                        max_length = max_len,      \n",
    "                        pad_to_max_length = True,\n",
    "                        return_attention_mask = True, \n",
    "                        return_tensors = 'pt',\n",
    "                   )\n",
    "    \n",
    "    input_ids.append(encoded_dict['input_ids'])\n",
    "    attention_masks.append(encoded_dict['attention_mask'])\n",
    "\n",
    "input_ids = torch.cat(input_ids, dim=0)\n",
    "attention_masks = torch.cat(attention_masks, dim=0)\n",
    "labels = torch.tensor(training_labels)\n"
   ]
  },
  {
   "cell_type": "code",
   "execution_count": null,
   "metadata": {
    "id": "FW0Kzp0BZ5Xm"
   },
   "outputs": [],
   "source": [
    "#data loader to use tensor data on model \n",
    "train_dataset = TensorDataset(input_ids, attention_masks, labels)\n",
    "\n",
    "batch_size = 32\n",
    "\n",
    "train_dataloader = DataLoader(\n",
    "            train_dataset,  \n",
    "            sampler = RandomSampler(train_dataset), \n",
    "            batch_size = batch_size \n",
    "        )\n",
    "\n",
    "number_of_categories = len(data_pool['encoded_categories'].unique())\n",
    "\n",
    "# downloading pretrained Bert model from Huggingface\n",
    "\n",
    "model = BertForSequenceClassification.from_pretrained(\n",
    "    \"dbmdz/bert-base-turkish-128k-uncased\",\n",
    "    num_labels = number_of_categories, \n",
    "    output_attentions = False,\n",
    "    output_hidden_states = False,\n",
    ")\n",
    "\n",
    "model.cuda()"
   ]
  },
  {
   "cell_type": "code",
   "execution_count": null,
   "metadata": {
    "id": "b4PRGJasdUuf"
   },
   "outputs": [],
   "source": [
    "\n",
    "epochs = 4\n",
    "\n",
    "# Learning rate optimization\n",
    "optimizer = AdamW(model.parameters(),\n",
    "                  lr = 5e-5,\n",
    "                  eps = 1e-8 \n",
    "                )\n",
    "\n",
    "total_steps = len(train_dataloader) * epochs\n",
    "scheduler = get_linear_schedule_with_warmup(optimizer, \n",
    "                                            num_warmup_steps = 0,\n",
    "                                            num_training_steps = total_steps)\n",
    "criterion = torch.nn.CrossEntropyLoss()"
   ]
  },
  {
   "cell_type": "markdown",
   "metadata": {
    "id": "Zlp9eCSr17Us"
   },
   "source": [
    "**Training**"
   ]
  },
  {
   "cell_type": "code",
   "execution_count": null,
   "metadata": {
    "colab": {
     "base_uri": "https://localhost:8080/"
    },
    "executionInfo": {
     "elapsed": 359007,
     "status": "ok",
     "timestamp": 1616850304311,
     "user": {
      "displayName": "zeynep seda birinci",
      "photoUrl": "https://lh3.googleusercontent.com/a-/AOh14Gg2CDHlhaXPAxlZCoFysBnBYc7vaDueMjvwK2PHb_g=s64",
      "userId": "12327511080140942233"
     },
     "user_tz": -180
    },
    "id": "Bo2KetIgLvYA",
    "outputId": "e9b1c4a8-a5d2-464a-8b9a-f3aa4e53d4e7"
   },
   "outputs": [
    {
     "name": "stdout",
     "output_type": "stream",
     "text": [
      "======== Epoch 1 / 4 ========\n",
      "Batch    10  of    112.    Elapsed: 0:00:08.\n",
      "Batch    20  of    112.    Elapsed: 0:00:15.\n",
      "Batch    30  of    112.    Elapsed: 0:00:23.\n",
      "Batch    40  of    112.    Elapsed: 0:00:31.\n",
      "Batch    50  of    112.    Elapsed: 0:00:39.\n",
      "Batch    60  of    112.    Elapsed: 0:00:46.\n",
      "Batch    70  of    112.    Elapsed: 0:00:54.\n",
      "Batch    80  of    112.    Elapsed: 0:01:02.\n",
      "Batch    90  of    112.    Elapsed: 0:01:09.\n",
      "Batch   100  of    112.    Elapsed: 0:01:17.\n",
      "Batch   110  of    112.    Elapsed: 0:01:25.\n",
      "Average training loss: 0.67\n",
      "Training epoch took: 0:01:26\n",
      "======== Epoch 2 / 4 ========\n",
      "Batch    10  of    112.    Elapsed: 0:00:08.\n",
      "Batch    20  of    112.    Elapsed: 0:00:15.\n",
      "Batch    30  of    112.    Elapsed: 0:00:23.\n",
      "Batch    40  of    112.    Elapsed: 0:00:31.\n",
      "Batch    50  of    112.    Elapsed: 0:00:39.\n",
      "Batch    60  of    112.    Elapsed: 0:00:46.\n",
      "Batch    70  of    112.    Elapsed: 0:00:54.\n",
      "Batch    80  of    112.    Elapsed: 0:01:02.\n",
      "Batch    90  of    112.    Elapsed: 0:01:09.\n",
      "Batch   100  of    112.    Elapsed: 0:01:17.\n",
      "Batch   110  of    112.    Elapsed: 0:01:25.\n",
      "Average training loss: 0.08\n",
      "Training epoch took: 0:01:26\n",
      "======== Epoch 3 / 4 ========\n",
      "Batch    10  of    112.    Elapsed: 0:00:08.\n",
      "Batch    20  of    112.    Elapsed: 0:00:15.\n",
      "Batch    30  of    112.    Elapsed: 0:00:23.\n",
      "Batch    40  of    112.    Elapsed: 0:00:31.\n",
      "Batch    50  of    112.    Elapsed: 0:00:38.\n",
      "Batch    60  of    112.    Elapsed: 0:00:46.\n",
      "Batch    70  of    112.    Elapsed: 0:00:54.\n",
      "Batch    80  of    112.    Elapsed: 0:01:01.\n",
      "Batch    90  of    112.    Elapsed: 0:01:09.\n",
      "Batch   100  of    112.    Elapsed: 0:01:17.\n",
      "Batch   110  of    112.    Elapsed: 0:01:25.\n",
      "Average training loss: 0.02\n",
      "Training epoch took: 0:01:26\n",
      "======== Epoch 4 / 4 ========\n",
      "Batch    10  of    112.    Elapsed: 0:00:08.\n",
      "Batch    20  of    112.    Elapsed: 0:00:15.\n",
      "Batch    30  of    112.    Elapsed: 0:00:23.\n",
      "Batch    40  of    112.    Elapsed: 0:00:31.\n",
      "Batch    50  of    112.    Elapsed: 0:00:38.\n",
      "Batch    60  of    112.    Elapsed: 0:00:46.\n",
      "Batch    70  of    112.    Elapsed: 0:00:54.\n",
      "Batch    80  of    112.    Elapsed: 0:01:01.\n",
      "Batch    90  of    112.    Elapsed: 0:01:09.\n",
      "Batch   100  of    112.    Elapsed: 0:01:17.\n",
      "Batch   110  of    112.    Elapsed: 0:01:24.\n",
      "Average training loss: 0.02\n",
      "Training epoch took: 0:01:26\n",
      "Training completed in 0:05:45 (h:mm:ss)\n"
     ]
    }
   ],
   "source": [
    "def format_time(elapsed):\n",
    "    elapsed_rounded = int(round((elapsed)))\n",
    "    return str(datetime.timedelta(seconds=elapsed_rounded))\n",
    "\n",
    "# This training code is based on the `run_glue.py` script here:\n",
    "# https://github.com/huggingface/transformers/blob/5bfcd0485ece086ebcbed2d008813037968a9e58/examples/run_glue.py#L128\n",
    "\n",
    "seed_val = 1903\n",
    "\n",
    "random.seed(seed_val)\n",
    "np.random.seed(seed_val)\n",
    "torch.manual_seed(seed_val)\n",
    "torch.cuda.manual_seed_all(seed_val)\n",
    "\n",
    "training_stats = []\n",
    "total_t0 = time.time()\n",
    "\n",
    "model.train()\n",
    "  \n",
    "for epoch_i in range(0, epochs):\n",
    "    print('======== Epoch {:} / {:} ========'.format(epoch_i + 1, epochs))\n",
    "    t0 = time.time()\n",
    "    total_train_loss = 0\n",
    "\n",
    "\n",
    "    for step, batch in enumerate(train_dataloader):\n",
    "        if step % 10 == 0 and not step == 0:\n",
    "            elapsed = format_time(time.time() - t0)\n",
    "            print('Batch {:>5,}  of  {:>5,}.    Elapsed: {:}.'.format(step, len(train_dataloader), elapsed))\n",
    "\n",
    "        b_input_ids = batch[0].to(device)\n",
    "        b_input_mask = batch[1].to(device)\n",
    "        b_labels = batch[2].to(device)\n",
    "\n",
    "        model.zero_grad()        \n",
    "        out = model(b_input_ids, \n",
    "                             token_type_ids=None, \n",
    "                             attention_mask=b_input_mask, \n",
    "                             labels=b_labels)\n",
    "        # import pdb; pdb.set_trace()\n",
    "        logit = out.logits\n",
    "        loss = out.loss\n",
    "        \n",
    "        total_train_loss += loss.item()\n",
    "        \n",
    "        loss.backward()\n",
    "        torch.nn.utils.clip_grad_norm_(model.parameters(), 1.0)\n",
    "        optimizer.step()\n",
    "        scheduler.step()\n",
    "        \n",
    "\n",
    "    avg_train_loss = total_train_loss / len(train_dataloader)            \n",
    "    training_time = format_time(time.time() - t0)\n",
    "\n",
    "    print(\"Average training loss: {0:.2f}\".format(avg_train_loss))\n",
    "    print(\"Training epoch took: {:}\".format(training_time))\n",
    "\n",
    "    training_stats.append(\n",
    "        {\n",
    "            'epoch': epoch_i + 1,\n",
    "            'Training Loss': avg_train_loss,\n",
    "            'Training Time': training_time,\n",
    "        }\n",
    "    )\n",
    "\n",
    "print(\"Training completed in {:} (h:mm:ss)\".format(format_time(time.time()-total_t0)))"
   ]
  },
  {
   "cell_type": "code",
   "execution_count": null,
   "metadata": {
    "colab": {
     "base_uri": "https://localhost:8080/",
     "height": 295
    },
    "executionInfo": {
     "elapsed": 359001,
     "status": "ok",
     "timestamp": 1616850304317,
     "user": {
      "displayName": "zeynep seda birinci",
      "photoUrl": "https://lh3.googleusercontent.com/a-/AOh14Gg2CDHlhaXPAxlZCoFysBnBYc7vaDueMjvwK2PHb_g=s64",
      "userId": "12327511080140942233"
     },
     "user_tz": -180
    },
    "id": "OHHrSdtwWp8d",
    "outputId": "1043b0e0-6576-4c79-de1b-e9ccb107cfdb"
   },
   "outputs": [
    {
     "data": {
      "image/png": "[encoded data removed]",
      "text/plain": [
       "<Figure size 432x288 with 1 Axes>"
      ]
     },
     "metadata": {
      "needs_background": "light",
      "tags": []
     },
     "output_type": "display_data"
    }
   ],
   "source": [
    "# Change in loss\n",
    "df_stats = pd.DataFrame(data=training_stats)\n",
    "plt.plot(df_stats['Training Loss'], label=\"Training\")\n",
    "plt.title(\"Training Loss\")\n",
    "plt.xlabel(\"Epoch\")\n",
    "plt.ylabel(\"Loss\")\n",
    "plt.xticks([1, 2, 3, 4])\n",
    "plt.show()"
   ]
  },
  {
   "cell_type": "markdown",
   "metadata": {
    "id": "pinGFIDH10O8"
   },
   "source": [
    "**Evaluation on Test Data**"
   ]
  },
  {
   "cell_type": "code",
   "execution_count": null,
   "metadata": {
    "colab": {
     "base_uri": "https://localhost:8080/"
    },
    "executionInfo": {
     "elapsed": 359428,
     "status": "ok",
     "timestamp": 1616850304758,
     "user": {
      "displayName": "zeynep seda birinci",
      "photoUrl": "https://lh3.googleusercontent.com/a-/AOh14Gg2CDHlhaXPAxlZCoFysBnBYc7vaDueMjvwK2PHb_g=s64",
      "userId": "12327511080140942233"
     },
     "user_tz": -180
    },
    "id": "G6f5Cgt3W3kH",
    "outputId": "aab9a009-870d-4f18-9f03-b271e726e0e8"
   },
   "outputs": [
    {
     "name": "stderr",
     "output_type": "stream",
     "text": [
      "/usr/local/lib/python3.7/dist-packages/transformers/tokenization_utils_base.py:2074: FutureWarning: The `pad_to_max_length` argument is deprecated and will be removed in a future version, use `padding=True` or `padding='longest'` to pad to the longest sequence in the batch, or use `padding='max_length'` to pad to a max length. In this case, you can give a specific length with `max_length` (e.g. `max_length=45`) or leave max_length to None to pad to the maximal input size of the model (e.g. 512 for Bert).\n",
      "  FutureWarning,\n"
     ]
    }
   ],
   "source": [
    "test_texts = test.data_pool.values\n",
    "test_labels = test.encoded_categories.values\n",
    "\n",
    "input_ids = []\n",
    "attention_masks = []\n",
    "\n",
    "for text in test_texts:\n",
    "    encoded_dict = tokenizer.encode_plus(\n",
    "                        text,                     \n",
    "                        add_special_tokens = True, \n",
    "                        max_length = max_len,          \n",
    "                        pad_to_max_length = True,\n",
    "                        return_attention_mask = True,  \n",
    "                        return_tensors = 'pt',   \n",
    "                   )\n",
    "    \n",
    "    input_ids.append(encoded_dict['input_ids'])\n",
    "    attention_masks.append(encoded_dict['attention_mask'])\n",
    "\n",
    "input_ids = torch.cat(input_ids, dim=0)\n",
    "attention_masks = torch.cat(attention_masks, dim=0)\n",
    "labels = torch.tensor(test_labels)\n",
    "\n",
    "batch_size = 32  \n",
    "\n",
    "prediction_data = TensorDataset(input_ids, attention_masks, labels)\n",
    "prediction_sampler = SequentialSampler(prediction_data)\n",
    "prediction_dataloader = DataLoader(prediction_data, sampler=prediction_sampler, batch_size=batch_size)\n"
   ]
  },
  {
   "cell_type": "code",
   "execution_count": null,
   "metadata": {
    "id": "_C3LwhPnXMhl"
   },
   "outputs": [],
   "source": [
    "model.eval()\n",
    "predictions , true_labels = [], []\n",
    "\n",
    "for batch in prediction_dataloader:\n",
    "  batch = tuple(t.to(device) for t in batch)\n",
    "  b_input_ids, b_input_mask, b_labels = batch\n",
    "\n",
    "  with torch.no_grad():\n",
    "      outputs = model(b_input_ids, token_type_ids=None, \n",
    "                      attention_mask=b_input_mask)\n",
    "\n",
    "  logits = outputs[0]\n",
    "  logits = logits.detach().cpu().numpy()\n",
    "  label_ids = b_labels.to('cpu').numpy()\n",
    "  \n",
    "  predictions.append(logits)\n",
    "  true_labels.append(label_ids)\n",
    "\n",
    "\n",
    "prediction_set = []\n",
    "\n",
    "for i in range(len(true_labels)):\n",
    "  pred_labels_i = np.argmax(predictions[i], axis=1).flatten()\n",
    "  prediction_set.append(pred_labels_i)\n",
    "\n",
    "prediction_scores = [item for sublist in prediction_set for item in sublist]"
   ]
  },
  {
   "cell_type": "markdown",
   "metadata": {
    "id": "sAy3QvQr2CSt"
   },
   "source": [
    "**Test Results**\n",
    "\n",
    "I was not expecting that good results, so maybe overfit due to data size that I have created.  \n",
    "\n",
    "On the other hand I am not sure if we needed to use BERT model to differentiate these data groups since I learnt how these data created I can check if they belong to certain category by is_valid function that I would write according to the rules. (for example luhn algorithm for credit card). Yet, I see the point to use BERT on hobbies data set."
   ]
  },
  {
   "cell_type": "code",
   "execution_count": null,
   "metadata": {
    "colab": {
     "base_uri": "https://localhost:8080/",
     "height": 224
    },
    "executionInfo": {
     "elapsed": 369168,
     "status": "ok",
     "timestamp": 1616850314520,
     "user": {
      "displayName": "zeynep seda birinci",
      "photoUrl": "https://lh3.googleusercontent.com/a-/AOh14Gg2CDHlhaXPAxlZCoFysBnBYc7vaDueMjvwK2PHb_g=s64",
      "userId": "12327511080140942233"
     },
     "user_tz": -180
    },
    "id": "xTjvdeGKXZHu",
    "outputId": "a965432d-845e-47a6-c3e8-67678ebab0d3"
   },
   "outputs": [
    {
     "name": "stdout",
     "output_type": "stream",
     "text": [
      "F-Score:  0.9986666518516871\n",
      "Recall:  0.9986666666666666\n",
      "Precision:  0.9986754966887418\n"
     ]
    },
    {
     "data": {
      "text/html": [
       "<div>\n",
       "<style scoped>\n",
       "    .dataframe tbody tr th:only-of-type {\n",
       "        vertical-align: middle;\n",
       "    }\n",
       "\n",
       "    .dataframe tbody tr th {\n",
       "        vertical-align: top;\n",
       "    }\n",
       "\n",
       "    .dataframe thead th {\n",
       "        text-align: right;\n",
       "    }\n",
       "</style>\n",
       "<table border=\"1\" class=\"dataframe\">\n",
       "  <thead>\n",
       "    <tr style=\"text-align: right;\">\n",
       "      <th></th>\n",
       "      <th>amount</th>\n",
       "      <th>credit_card_number</th>\n",
       "      <th>hobbies</th>\n",
       "      <th>phone_number</th>\n",
       "      <th>republic_of_turkey_id_number</th>\n",
       "      <th>accuracy</th>\n",
       "      <th>macro avg</th>\n",
       "      <th>weighted avg</th>\n",
       "    </tr>\n",
       "  </thead>\n",
       "  <tbody>\n",
       "    <tr>\n",
       "      <th>precision</th>\n",
       "      <td>1.0</td>\n",
       "      <td>1.0</td>\n",
       "      <td>1.0</td>\n",
       "      <td>0.993377</td>\n",
       "      <td>1.000000</td>\n",
       "      <td>0.998377</td>\n",
       "      <td>0.998675</td>\n",
       "      <td>0.998387</td>\n",
       "    </tr>\n",
       "    <tr>\n",
       "      <th>recall</th>\n",
       "      <td>1.0</td>\n",
       "      <td>1.0</td>\n",
       "      <td>1.0</td>\n",
       "      <td>1.000000</td>\n",
       "      <td>0.993333</td>\n",
       "      <td>0.998377</td>\n",
       "      <td>0.998667</td>\n",
       "      <td>0.998377</td>\n",
       "    </tr>\n",
       "    <tr>\n",
       "      <th>f1-score</th>\n",
       "      <td>1.0</td>\n",
       "      <td>1.0</td>\n",
       "      <td>1.0</td>\n",
       "      <td>0.996678</td>\n",
       "      <td>0.996656</td>\n",
       "      <td>0.998377</td>\n",
       "      <td>0.998667</td>\n",
       "      <td>0.998377</td>\n",
       "    </tr>\n",
       "    <tr>\n",
       "      <th>support</th>\n",
       "      <td>300.0</td>\n",
       "      <td>300.0</td>\n",
       "      <td>32.0</td>\n",
       "      <td>300.000000</td>\n",
       "      <td>300.000000</td>\n",
       "      <td>0.998377</td>\n",
       "      <td>1232.000000</td>\n",
       "      <td>1232.000000</td>\n",
       "    </tr>\n",
       "  </tbody>\n",
       "</table>\n",
       "</div>"
      ],
      "text/plain": [
       "           amount  credit_card_number  ...    macro avg  weighted avg\n",
       "precision     1.0                 1.0  ...     0.998675      0.998387\n",
       "recall        1.0                 1.0  ...     0.998667      0.998377\n",
       "f1-score      1.0                 1.0  ...     0.998667      0.998377\n",
       "support     300.0               300.0  ...  1232.000000   1232.000000\n",
       "\n",
       "[4 rows x 8 columns]"
      ]
     },
     "execution_count": 172,
     "metadata": {
      "tags": []
     },
     "output_type": "execute_result"
    }
   ],
   "source": [
    "f_score = f1_score(test_labels, prediction_scores, average='macro')\n",
    "precision = precision_score(test_labels, prediction_scores, average='macro')\n",
    "recall = recall_score(test_labels, prediction_scores, average='macro')\n",
    "\n",
    "print(\"F-Score: \", f_score)\n",
    "print(\"Recall: \", recall)\n",
    "print(\"Precision: \", precision)\n",
    "\n",
    "report = pd.DataFrame(classification_report(test_labels, prediction_scores, output_dict=True))\n",
    "report = report.rename(columns={'0':'amount',\n",
    "                          '1':'blood_type',\n",
    "                          '2':'credit_card_number',\n",
    "                          '3':'hobbies',\n",
    "                          '4':'phone_number',\n",
    "                          '5':'republic_of_turkey_id_number'})\n",
    "\n",
    "report"
   ]
  },
  {
   "cell_type": "markdown",
   "metadata": {
    "id": "HfvOwOBz3R0t"
   },
   "source": [
    "**Zeynep Seda Birinci** "
   ]
  }
 ],
 "metadata": {
  "accelerator": "GPU",
  "colab": {
   "collapsed_sections": [],
   "name": "GRIDS_ZeynepSedaBirinci.ipynb",
   "provenance": [
    {
     "file_id": "1SuQ81nD5HTz-rlr3coQ-pf-R9_Z2YSYu",
     "timestamp": 1616851627103
    }
   ]
  },
  "kernelspec": {
   "display_name": "Python 3",
   "language": "python",
   "name": "python3"
  },
  "language_info": {
   "codemirror_mode": {
    "name": "ipython",
    "version": 3
   },
   "file_extension": ".py",
   "mimetype": "text/x-python",
   "name": "python",
   "nbconvert_exporter": "python",
   "pygments_lexer": "ipython3",
   "version": "3.7.9"
  }
 },
 "nbformat": 4,
 "nbformat_minor": 1
}
